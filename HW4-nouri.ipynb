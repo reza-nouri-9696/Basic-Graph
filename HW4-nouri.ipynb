{
 "cells": [
  {
   "cell_type": "code",
   "execution_count": 2,
   "id": "57bc1cdc",
   "metadata": {},
   "outputs": [
    {
     "name": "stdout",
     "output_type": "stream",
     "text": [
      "Graph with 7 nodes and 7 edges\n"
     ]
    },
    {
     "data": {
      "image/png": "[encoded data removed]",
      "text/plain": [
       "<Figure size 432x288 with 1 Axes>"
      ]
     },
     "metadata": {},
     "output_type": "display_data"
    }
   ],
   "source": [
    "import networkx as nx\n",
    "import matplotlib.pyplot as plt\n",
    "g=nx.Graph()\n",
    "g.add_nodes_from([1,2,3,4,5,6,7])\n",
    "g.add_edges_from([(1,2),(2,3),(2,5),(3,6),(3,7),(4,5),(5,6)])\n",
    "print(g)\n",
    "nx.draw(g,with_labels=True)"
   ]
  },
  {
   "cell_type": "code",
   "execution_count": 4,
   "id": "97addeeb",
   "metadata": {},
   "outputs": [
    {
     "name": "stdout",
     "output_type": "stream",
     "text": [
      "shortest path between ( 1 , 1 ): [1] length= 0\n",
      "shortest path between ( 1 , 2 ): [1, 2] length= 1\n",
      "shortest path between ( 1 , 3 ): [1, 2, 3] length= 2\n",
      "shortest path between ( 1 , 4 ): [1, 2, 5, 4] length= 3\n",
      "shortest path between ( 1 , 5 ): [1, 2, 5] length= 2\n",
      "shortest path between ( 1 , 6 ): [1, 2, 3, 6] length= 3\n",
      "shortest path between ( 1 , 7 ): [1, 2, 3, 7] length= 3\n",
      "shortest path between ( 2 , 1 ): [2, 1] length= 1\n",
      "shortest path between ( 2 , 2 ): [2] length= 0\n",
      "shortest path between ( 2 , 3 ): [2, 3] length= 1\n",
      "shortest path between ( 2 , 4 ): [2, 5, 4] length= 2\n",
      "shortest path between ( 2 , 5 ): [2, 5] length= 1\n",
      "shortest path between ( 2 , 6 ): [2, 3, 6] length= 2\n",
      "shortest path between ( 2 , 7 ): [2, 3, 7] length= 2\n",
      "shortest path between ( 3 , 1 ): [3, 2, 1] length= 2\n",
      "shortest path between ( 3 , 2 ): [3, 2] length= 1\n",
      "shortest path between ( 3 , 3 ): [3] length= 0\n",
      "shortest path between ( 3 , 4 ): [3, 2, 5, 4] length= 3\n",
      "shortest path between ( 3 , 5 ): [3, 2, 5] length= 2\n",
      "shortest path between ( 3 , 6 ): [3, 6] length= 1\n",
      "shortest path between ( 3 , 7 ): [3, 7] length= 1\n",
      "shortest path between ( 4 , 1 ): [4, 5, 2, 1] length= 3\n",
      "shortest path between ( 4 , 2 ): [4, 5, 2] length= 2\n",
      "shortest path between ( 4 , 3 ): [4, 5, 2, 3] length= 3\n",
      "shortest path between ( 4 , 4 ): [4] length= 0\n",
      "shortest path between ( 4 , 5 ): [4, 5] length= 1\n",
      "shortest path between ( 4 , 6 ): [4, 5, 6] length= 2\n",
      "shortest path between ( 4 , 7 ): [4, 5, 2, 3, 7] length= 4\n",
      "shortest path between ( 5 , 1 ): [5, 2, 1] length= 2\n",
      "shortest path between ( 5 , 2 ): [5, 2] length= 1\n",
      "shortest path between ( 5 , 3 ): [5, 2, 3] length= 2\n",
      "shortest path between ( 5 , 4 ): [5, 4] length= 1\n",
      "shortest path between ( 5 , 5 ): [5] length= 0\n",
      "shortest path between ( 5 , 6 ): [5, 6] length= 1\n",
      "shortest path between ( 5 , 7 ): [5, 2, 3, 7] length= 3\n",
      "shortest path between ( 6 , 1 ): [6, 3, 2, 1] length= 3\n",
      "shortest path between ( 6 , 2 ): [6, 3, 2] length= 2\n",
      "shortest path between ( 6 , 3 ): [6, 3] length= 1\n",
      "shortest path between ( 6 , 4 ): [6, 5, 4] length= 2\n",
      "shortest path between ( 6 , 5 ): [6, 5] length= 1\n",
      "shortest path between ( 6 , 6 ): [6] length= 0\n",
      "shortest path between ( 6 , 7 ): [6, 3, 7] length= 2\n",
      "shortest path between ( 7 , 1 ): [7, 3, 2, 1] length= 3\n",
      "shortest path between ( 7 , 2 ): [7, 3, 2] length= 2\n",
      "shortest path between ( 7 , 3 ): [7, 3] length= 1\n",
      "shortest path between ( 7 , 4 ): [7, 3, 2, 5, 4] length= 4\n",
      "shortest path between ( 7 , 5 ): [7, 3, 2, 5] length= 3\n",
      "shortest path between ( 7 , 6 ): [7, 3, 6] length= 2\n",
      "shortest path between ( 7 , 7 ): [7] length= 0\n"
     ]
    }
   ],
   "source": [
    "for node in g.nodes():\n",
    "    for node_d in g.nodes:\n",
    "        short_path=nx.shortest_path(g,node,node_d,method=\"dijkstra\")\n",
    "        lenght=nx.shortest_path_length(g,node,node_d,method=\"dijkstra\")\n",
    "        print(\"shortest path between (\",node,\",\",node_d,\"):\",short_path,\"length=\",lenght)"
   ]
  },
  {
   "cell_type": "code",
   "execution_count": 28,
   "id": "c66d118b",
   "metadata": {},
   "outputs": [
    {
     "name": "stdout",
     "output_type": "stream",
     "text": [
      "shortest path between ( 1 , 1 ): [1]\n",
      "shortest path between ( 1 , 2 ): [1, 2]\n",
      "shortest path between ( 1 , 3 ): [1, 2, 3]\n",
      "shortest path between ( 1 , 4 ): [1, 2, 5, 4]\n",
      "shortest path between ( 1 , 5 ): [1, 2, 5]\n",
      "shortest path between ( 1 , 6 ): [1, 2, 3, 6]\n",
      "shortest path between ( 1 , 7 ): [1, 2, 3, 7]\n",
      "shortest path between ( 2 , 1 ): [2, 1]\n",
      "shortest path between ( 2 , 2 ): [2]\n",
      "shortest path between ( 2 , 3 ): [2, 3]\n",
      "shortest path between ( 2 , 4 ): [2, 5, 4]\n",
      "shortest path between ( 2 , 5 ): [2, 5]\n",
      "shortest path between ( 2 , 6 ): [2, 3, 6]\n",
      "shortest path between ( 2 , 7 ): [2, 3, 7]\n",
      "shortest path between ( 3 , 1 ): [3, 2, 1]\n",
      "shortest path between ( 3 , 2 ): [3, 2]\n",
      "shortest path between ( 3 , 3 ): [3]\n",
      "shortest path between ( 3 , 4 ): [3, 2, 5, 4]\n",
      "shortest path between ( 3 , 5 ): [3, 2, 5]\n",
      "shortest path between ( 3 , 6 ): [3, 6]\n",
      "shortest path between ( 3 , 7 ): [3, 7]\n",
      "shortest path between ( 4 , 1 ): [4, 5, 2, 1]\n",
      "shortest path between ( 4 , 2 ): [4, 5, 2]\n",
      "shortest path between ( 4 , 3 ): [4, 5, 2, 3]\n",
      "shortest path between ( 4 , 4 ): [4]\n",
      "shortest path between ( 4 , 5 ): [4, 5]\n",
      "shortest path between ( 4 , 6 ): [4, 5, 6]\n",
      "shortest path between ( 4 , 7 ): [4, 5, 2, 3, 7]\n",
      "shortest path between ( 5 , 1 ): [5, 2, 1]\n",
      "shortest path between ( 5 , 2 ): [5, 2]\n",
      "shortest path between ( 5 , 3 ): [5, 2, 3]\n",
      "shortest path between ( 5 , 4 ): [5, 4]\n",
      "shortest path between ( 5 , 5 ): [5]\n",
      "shortest path between ( 5 , 6 ): [5, 6]\n",
      "shortest path between ( 5 , 7 ): [5, 2, 3, 7]\n",
      "shortest path between ( 6 , 1 ): [6, 3, 2, 1]\n",
      "shortest path between ( 6 , 2 ): [6, 3, 2]\n",
      "shortest path between ( 6 , 3 ): [6, 3]\n",
      "shortest path between ( 6 , 4 ): [6, 5, 4]\n",
      "shortest path between ( 6 , 5 ): [6, 5]\n",
      "shortest path between ( 6 , 6 ): [6]\n",
      "shortest path between ( 6 , 7 ): [6, 3, 7]\n",
      "shortest path between ( 7 , 1 ): [7, 3, 2, 1]\n",
      "shortest path between ( 7 , 2 ): [7, 3, 2]\n",
      "shortest path between ( 7 , 3 ): [7, 3]\n",
      "shortest path between ( 7 , 4 ): [7, 3, 2, 5, 4]\n",
      "shortest path between ( 7 , 5 ): [7, 3, 2, 5]\n",
      "shortest path between ( 7 , 6 ): [7, 3, 6]\n",
      "shortest path between ( 7 , 7 ): [7]\n"
     ]
    }
   ],
   "source": [
    "for node in g.nodes():\n",
    "    for node_d in g.nodes:\n",
    "        short_path=nx.astar_path(g,node,node_d)\n",
    "        print(\"shortest path between (\",node,\",\",node_d,\"):\",short_path)\n",
    "\n"
   ]
  },
  {
   "cell_type": "code",
   "execution_count": 29,
   "id": "a5c80099",
   "metadata": {},
   "outputs": [
    {
     "name": "stdout",
     "output_type": "stream",
     "text": [
      "shortest path between ( 1 , 1 ): [[1]]\n",
      "shortest path between ( 1 , 2 ): [[1, 2]]\n",
      "shortest path between ( 1 , 3 ): [[1, 2, 3]]\n",
      "shortest path between ( 1 , 4 ): [[1, 2, 5, 4]]\n",
      "shortest path between ( 1 , 5 ): [[1, 2, 5]]\n",
      "shortest path between ( 1 , 6 ): [[1, 2, 3, 6], [1, 2, 5, 6]]\n",
      "shortest path between ( 1 , 7 ): [[1, 2, 3, 7]]\n",
      "shortest path between ( 2 , 1 ): [[2, 1]]\n",
      "shortest path between ( 2 , 2 ): [[2]]\n",
      "shortest path between ( 2 , 3 ): [[2, 3]]\n",
      "shortest path between ( 2 , 4 ): [[2, 5, 4]]\n",
      "shortest path between ( 2 , 5 ): [[2, 5]]\n",
      "shortest path between ( 2 , 6 ): [[2, 3, 6], [2, 5, 6]]\n",
      "shortest path between ( 2 , 7 ): [[2, 3, 7]]\n",
      "shortest path between ( 3 , 1 ): [[3, 2, 1]]\n",
      "shortest path between ( 3 , 2 ): [[3, 2]]\n",
      "shortest path between ( 3 , 3 ): [[3]]\n",
      "shortest path between ( 3 , 4 ): [[3, 2, 5, 4], [3, 6, 5, 4]]\n",
      "shortest path between ( 3 , 5 ): [[3, 2, 5], [3, 6, 5]]\n",
      "shortest path between ( 3 , 6 ): [[3, 6]]\n",
      "shortest path between ( 3 , 7 ): [[3, 7]]\n",
      "shortest path between ( 4 , 1 ): [[4, 5, 2, 1]]\n",
      "shortest path between ( 4 , 2 ): [[4, 5, 2]]\n",
      "shortest path between ( 4 , 3 ): [[4, 5, 2, 3], [4, 5, 6, 3]]\n",
      "shortest path between ( 4 , 4 ): [[4]]\n",
      "shortest path between ( 4 , 5 ): [[4, 5]]\n",
      "shortest path between ( 4 , 6 ): [[4, 5, 6]]\n",
      "shortest path between ( 4 , 7 ): [[4, 5, 2, 3, 7], [4, 5, 6, 3, 7]]\n",
      "shortest path between ( 5 , 1 ): [[5, 2, 1]]\n",
      "shortest path between ( 5 , 2 ): [[5, 2]]\n",
      "shortest path between ( 5 , 3 ): [[5, 2, 3], [5, 6, 3]]\n",
      "shortest path between ( 5 , 4 ): [[5, 4]]\n",
      "shortest path between ( 5 , 5 ): [[5]]\n",
      "shortest path between ( 5 , 6 ): [[5, 6]]\n",
      "shortest path between ( 5 , 7 ): [[5, 2, 3, 7], [5, 6, 3, 7]]\n",
      "shortest path between ( 6 , 1 ): [[6, 3, 2, 1], [6, 5, 2, 1]]\n",
      "shortest path between ( 6 , 2 ): [[6, 3, 2], [6, 5, 2]]\n",
      "shortest path between ( 6 , 3 ): [[6, 3]]\n",
      "shortest path between ( 6 , 4 ): [[6, 5, 4]]\n",
      "shortest path between ( 6 , 5 ): [[6, 5]]\n",
      "shortest path between ( 6 , 6 ): [[6]]\n",
      "shortest path between ( 6 , 7 ): [[6, 3, 7]]\n",
      "shortest path between ( 7 , 1 ): [[7, 3, 2, 1]]\n",
      "shortest path between ( 7 , 2 ): [[7, 3, 2]]\n",
      "shortest path between ( 7 , 3 ): [[7, 3]]\n",
      "shortest path between ( 7 , 4 ): [[7, 3, 2, 5, 4], [7, 3, 6, 5, 4]]\n",
      "shortest path between ( 7 , 5 ): [[7, 3, 2, 5], [7, 3, 6, 5]]\n",
      "shortest path between ( 7 , 6 ): [[7, 3, 6]]\n",
      "shortest path between ( 7 , 7 ): [[7]]\n"
     ]
    }
   ],
   "source": [
    "for node in g.nodes():\n",
    "    for node_d in g.nodes:\n",
    "        short_path=nx.all_shortest_paths(g,node,node_d,method=\"dijkstra\")\n",
    "        \n",
    "        print(\"shortest path between (\",node,\",\",node_d,\"):\",[p for p in short_path])"
   ]
  },
  {
   "cell_type": "code",
   "execution_count": 34,
   "id": "58b7b911",
   "metadata": {},
   "outputs": [
    {
     "name": "stdout",
     "output_type": "stream",
     "text": [
      "(1, 5) -> 0.33333333\n",
      "(2, 6) -> 0.66666667\n",
      "(4, 6) -> 0.50000000\n",
      "(1, 4) -> 0.00000000\n"
     ]
    }
   ],
   "source": [
    "preds=nx.jaccard_coefficient(g,[(1,5),(2,6),(4,6),(1,4)])\n",
    "for u, v, p in preds:\n",
    "    print(f\"({u}, {v}) -> {p:.8f}\")"
   ]
  },
  {
   "cell_type": "code",
   "execution_count": 36,
   "id": "9ac488bf",
   "metadata": {},
   "outputs": [
    {
     "name": "stdout",
     "output_type": "stream",
     "text": [
      "(1, 5) -> 0.91023923\n",
      "(2, 6) -> 1.82047845\n",
      "(4, 6) -> 0.91023923\n",
      "(1, 4) -> 0.00000000\n"
     ]
    }
   ],
   "source": [
    "preds=nx.adamic_adar_index(g,[(1,5),(2,6),(4,6),(1,4)])\n",
    "for u, v, p in preds:\n",
    "    print(f\"({u}, {v}) -> {p:.8f}\")"
   ]
  },
  {
   "cell_type": "code",
   "execution_count": 44,
   "id": "c4a5b212",
   "metadata": {},
   "outputs": [
    {
     "name": "stdout",
     "output_type": "stream",
     "text": [
      "(1, 5) -> 1.5\n",
      "(2, 6) -> 2.3\n",
      "(4, 6) -> 1.5\n",
      "(1, 4) -> 0.4666666666666666\n"
     ]
    }
   ],
   "source": [
    "preds = nx.common_neighbor_centrality(g, [(1,5),(2,6),(4,6),(1,4)])\n",
    "for u, v, p in preds:\n",
    "    print(f\"({u}, {v}) -> {p}\")"
   ]
  },
  {
   "cell_type": "code",
   "execution_count": 7,
   "id": "2c1136b6",
   "metadata": {},
   "outputs": [
    {
     "name": "stdout",
     "output_type": "stream",
     "text": [
      "{1: 0.33944670087916096, 2: 0.41424499584531027, 3: 0.4113924730338397, 4: 0.3391615022420724, 5: 0.4113924730338397, 6: 0.38030045718533756, 7: 0.3391615022420724}\n"
     ]
    }
   ],
   "source": [
    "katz =nx.katz.katz_centrality(g, beta=0.1)\n",
    "print(katz)"
   ]
  },
  {
   "cell_type": "code",
   "execution_count": 45,
   "id": "a879acfd",
   "metadata": {},
   "outputs": [
    {
     "data": {
      "text/plain": [
       "True"
      ]
     },
     "execution_count": 45,
     "metadata": {},
     "output_type": "execute_result"
    }
   ],
   "source": [
    "m=nx.Graph()\n",
    "n=nx.Graph()\n",
    "m.add_nodes_from([1,2,3,4,5])\n",
    "m.add_edges_from([(1,3),(1,4),(2,4),(2,5),(3,5)])\n",
    "n.add_nodes_from([1,2,3,4,5])\n",
    "n.add_edges_from([(1,2),(2,3),(3,4),(4,5),(1,5)])\n",
    "nx.is_isomorphic(m,n) "
   ]
  },
  {
   "cell_type": "code",
   "execution_count": 24,
   "id": "ded0d882",
   "metadata": {},
   "outputs": [
    {
     "name": "stdout",
     "output_type": "stream",
     "text": [
      "  (0, 4)\t0.81\n",
      "  (0, 2)\t0.81\n",
      "  (0, 0)\t0.81\n",
      "  (1, 3)\t0.81\n",
      "  (1, 6)\t0.81\n",
      "  (1, 5)\t1.62\n",
      "  (1, 1)\t2.43\n",
      "  (2, 4)\t1.62\n",
      "  (2, 2)\t2.43\n",
      "  (2, 0)\t0.81\n",
      "  (3, 5)\t0.81\n",
      "  (3, 3)\t0.81\n",
      "  (3, 1)\t0.81\n",
      "  (4, 4)\t2.43\n",
      "  (4, 2)\t1.62\n",
      "  (4, 0)\t0.81\n",
      "  (5, 3)\t0.81\n",
      "  (5, 6)\t0.81\n",
      "  (5, 5)\t1.62\n",
      "  (5, 1)\t1.62\n",
      "  (6, 6)\t0.81\n",
      "  (6, 5)\t0.81\n",
      "  (6, 1)\t0.81\n",
      "[[ 0.61230639  0.68034043 -0.42818629 -0.38536766 -0.42818629 -0.77073532\n",
      "  -0.38536766]\n",
      " [ 0.68034043 -0.24406618 -0.47576254 -0.42818629 -0.47576254 -0.85637257\n",
      "  -0.42818629]\n",
      " [-0.42818629 -0.47576254  1.58135957 -2.41361849 -2.68179833 -0.09039488\n",
      "   2.32322361]\n",
      " [-0.38536766 -0.42818629 -2.41361849  2.09090125  2.32322361 -0.08135539\n",
      "  -2.17225664]\n",
      " [-0.42818629 -0.47576254 -2.68179833  2.32322361  1.58135957 -0.09039488\n",
      "  -2.41361849]\n",
      " [-0.77073532 -0.85637257 -0.09039488 -0.08135539 -0.09039488 -0.16271079\n",
      "  -0.08135539]\n",
      " [-0.38536766 -0.42818629  2.32322361 -2.17225664 -2.41361849 -0.08135539\n",
      "   2.09090125]]\n"
     ]
    }
   ],
   "source": [
    "import numpy as np\n",
    "from numpy.linalg import inv\n",
    "A=nx.adjacency_matrix(g)\n",
    "B=0.9\n",
    "l=2\n",
    "\n",
    "sum=0\n",
    "for i in range(1,l+1):\n",
    "    sum=(B**i)*(A**i)\n",
    "print (sum)\n",
    "I=np.identity(len(g.nodes))\n",
    "s=np.linalg.inv(I-B*A)-I\n",
    "print(s)"
   ]
  },
  {
   "cell_type": "code",
   "execution_count": 27,
   "id": "2435a23a",
   "metadata": {},
   "outputs": [],
   "source": [
    "def katz(g,b):\n",
    "    import numpy as np\n",
    "    A=nx.adjacency_matrix(g)\n",
    "\n",
    "    I=np.identity(len(g.nodes))\n",
    "    s=np.linalg.inv(I-B*A)-I\n",
    "    return s"
   ]
  },
  {
   "cell_type": "code",
   "execution_count": 29,
   "id": "db389feb",
   "metadata": {},
   "outputs": [
    {
     "data": {
      "text/plain": [
       "(7, 7)"
      ]
     },
     "execution_count": 29,
     "metadata": {},
     "output_type": "execute_result"
    }
   ],
   "source": [
    "katz(g,0.9).shape"
   ]
  }
 ],
 "metadata": {
  "kernelspec": {
   "display_name": "Python 3 (ipykernel)",
   "language": "python",
   "name": "python3"
  },
  "language_info": {
   "codemirror_mode": {
    "name": "ipython",
    "version": 3
   },
   "file_extension": ".py",
   "mimetype": "text/x-python",
   "name": "python",
   "nbconvert_exporter": "python",
   "pygments_lexer": "ipython3",
   "version": "3.7.11"
  }
 },
 "nbformat": 4,
 "nbformat_minor": 5
}
